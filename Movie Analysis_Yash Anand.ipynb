{
 "cells": [
  {
   "cell_type": "code",
   "execution_count": 1,
   "id": "80feb3f1",
   "metadata": {
    "execution": {
     "iopub.execute_input": "2022-06-15T00:48:57.219054Z",
     "iopub.status.busy": "2022-06-15T00:48:57.218452Z",
     "iopub.status.idle": "2022-06-15T00:48:58.527121Z",
     "shell.execute_reply": "2022-06-15T00:48:58.526221Z"
    },
    "papermill": {
     "duration": 1.322548,
     "end_time": "2022-06-15T00:48:58.529769",
     "exception": false,
     "start_time": "2022-06-15T00:48:57.207221",
     "status": "completed"
    },
    "pycharm": {
     "name": "#%%\n"
    },
    "tags": []
   },
   "outputs": [
    {
     "data": {
      "text/html": [
       "<div>\n",
       "<style scoped>\n",
       "    .dataframe tbody tr th:only-of-type {\n",
       "        vertical-align: middle;\n",
       "    }\n",
       "\n",
       "    .dataframe tbody tr th {\n",
       "        vertical-align: top;\n",
       "    }\n",
       "\n",
       "    .dataframe thead th {\n",
       "        text-align: right;\n",
       "    }\n",
       "</style>\n",
       "<table border=\"1\" class=\"dataframe\">\n",
       "  <thead>\n",
       "    <tr style=\"text-align: right;\">\n",
       "      <th></th>\n",
       "      <th>id</th>\n",
       "      <th>title</th>\n",
       "      <th>type</th>\n",
       "      <th>description</th>\n",
       "      <th>release_year</th>\n",
       "      <th>age_certification</th>\n",
       "      <th>runtime</th>\n",
       "      <th>genres</th>\n",
       "      <th>production_countries</th>\n",
       "      <th>seasons</th>\n",
       "      <th>imdb_id</th>\n",
       "      <th>imdb_score</th>\n",
       "      <th>imdb_votes</th>\n",
       "      <th>tmdb_popularity</th>\n",
       "      <th>tmdb_score</th>\n",
       "    </tr>\n",
       "  </thead>\n",
       "  <tbody>\n",
       "    <tr>\n",
       "      <th>0</th>\n",
       "      <td>ts300399</td>\n",
       "      <td>Five Came Back: The Reference Films</td>\n",
       "      <td>SHOW</td>\n",
       "      <td>This collection includes 12 World War II-era p...</td>\n",
       "      <td>1945</td>\n",
       "      <td>TV-MA</td>\n",
       "      <td>48</td>\n",
       "      <td>['documentation']</td>\n",
       "      <td>['US']</td>\n",
       "      <td>1.0</td>\n",
       "      <td>NaN</td>\n",
       "      <td>NaN</td>\n",
       "      <td>NaN</td>\n",
       "      <td>0.600</td>\n",
       "      <td>NaN</td>\n",
       "    </tr>\n",
       "    <tr>\n",
       "      <th>1</th>\n",
       "      <td>tm84618</td>\n",
       "      <td>Taxi Driver</td>\n",
       "      <td>MOVIE</td>\n",
       "      <td>A mentally unstable Vietnam War veteran works ...</td>\n",
       "      <td>1976</td>\n",
       "      <td>R</td>\n",
       "      <td>113</td>\n",
       "      <td>['crime', 'drama']</td>\n",
       "      <td>['US']</td>\n",
       "      <td>NaN</td>\n",
       "      <td>tt0075314</td>\n",
       "      <td>8.3</td>\n",
       "      <td>795222.0</td>\n",
       "      <td>27.612</td>\n",
       "      <td>8.2</td>\n",
       "    </tr>\n",
       "    <tr>\n",
       "      <th>2</th>\n",
       "      <td>tm127384</td>\n",
       "      <td>Monty Python and the Holy Grail</td>\n",
       "      <td>MOVIE</td>\n",
       "      <td>King Arthur, accompanied by his squire, recrui...</td>\n",
       "      <td>1975</td>\n",
       "      <td>PG</td>\n",
       "      <td>91</td>\n",
       "      <td>['comedy', 'fantasy']</td>\n",
       "      <td>['GB']</td>\n",
       "      <td>NaN</td>\n",
       "      <td>tt0071853</td>\n",
       "      <td>8.2</td>\n",
       "      <td>530877.0</td>\n",
       "      <td>18.216</td>\n",
       "      <td>7.8</td>\n",
       "    </tr>\n",
       "    <tr>\n",
       "      <th>3</th>\n",
       "      <td>tm70993</td>\n",
       "      <td>Life of Brian</td>\n",
       "      <td>MOVIE</td>\n",
       "      <td>Brian Cohen is an average young Jewish man, bu...</td>\n",
       "      <td>1979</td>\n",
       "      <td>R</td>\n",
       "      <td>94</td>\n",
       "      <td>['comedy']</td>\n",
       "      <td>['GB']</td>\n",
       "      <td>NaN</td>\n",
       "      <td>tt0079470</td>\n",
       "      <td>8.0</td>\n",
       "      <td>392419.0</td>\n",
       "      <td>17.505</td>\n",
       "      <td>7.8</td>\n",
       "    </tr>\n",
       "    <tr>\n",
       "      <th>4</th>\n",
       "      <td>tm190788</td>\n",
       "      <td>The Exorcist</td>\n",
       "      <td>MOVIE</td>\n",
       "      <td>12-year-old Regan MacNeil begins to adapt an e...</td>\n",
       "      <td>1973</td>\n",
       "      <td>R</td>\n",
       "      <td>133</td>\n",
       "      <td>['horror']</td>\n",
       "      <td>['US']</td>\n",
       "      <td>NaN</td>\n",
       "      <td>tt0070047</td>\n",
       "      <td>8.1</td>\n",
       "      <td>391942.0</td>\n",
       "      <td>95.337</td>\n",
       "      <td>7.7</td>\n",
       "    </tr>\n",
       "  </tbody>\n",
       "</table>\n",
       "</div>"
      ],
      "text/plain": [
       "         id                                title   type  \\\n",
       "0  ts300399  Five Came Back: The Reference Films   SHOW   \n",
       "1   tm84618                          Taxi Driver  MOVIE   \n",
       "2  tm127384      Monty Python and the Holy Grail  MOVIE   \n",
       "3   tm70993                        Life of Brian  MOVIE   \n",
       "4  tm190788                         The Exorcist  MOVIE   \n",
       "\n",
       "                                         description  release_year  \\\n",
       "0  This collection includes 12 World War II-era p...          1945   \n",
       "1  A mentally unstable Vietnam War veteran works ...          1976   \n",
       "2  King Arthur, accompanied by his squire, recrui...          1975   \n",
       "3  Brian Cohen is an average young Jewish man, bu...          1979   \n",
       "4  12-year-old Regan MacNeil begins to adapt an e...          1973   \n",
       "\n",
       "  age_certification  runtime                 genres production_countries  \\\n",
       "0             TV-MA       48      ['documentation']               ['US']   \n",
       "1                 R      113     ['crime', 'drama']               ['US']   \n",
       "2                PG       91  ['comedy', 'fantasy']               ['GB']   \n",
       "3                 R       94             ['comedy']               ['GB']   \n",
       "4                 R      133             ['horror']               ['US']   \n",
       "\n",
       "   seasons    imdb_id  imdb_score  imdb_votes  tmdb_popularity  tmdb_score  \n",
       "0      1.0        NaN         NaN         NaN            0.600         NaN  \n",
       "1      NaN  tt0075314         8.3    795222.0           27.612         8.2  \n",
       "2      NaN  tt0071853         8.2    530877.0           18.216         7.8  \n",
       "3      NaN  tt0079470         8.0    392419.0           17.505         7.8  \n",
       "4      NaN  tt0070047         8.1    391942.0           95.337         7.7  "
      ]
     },
     "execution_count": 1,
     "metadata": {},
     "output_type": "execute_result"
    }
   ],
   "source": [
    "import pandas as pd\n",
    "import matplotlib.pyplot as plt\n",
    "import seaborn as sns\n",
    "from matplotlib.axes import Axes\n",
    "\n",
    "df = pd.read_csv('../input/netflix-tv-shows-and-movies/titles.csv')\n",
    "df.head()"
   ]
  },
  {
   "cell_type": "code",
   "execution_count": 2,
   "id": "539e132c",
   "metadata": {
    "collapsed": false,
    "execution": {
     "iopub.execute_input": "2022-06-15T00:48:58.543932Z",
     "iopub.status.busy": "2022-06-15T00:48:58.543546Z",
     "iopub.status.idle": "2022-06-15T00:48:58.590500Z",
     "shell.execute_reply": "2022-06-15T00:48:58.589348Z"
    },
    "jupyter": {
     "outputs_hidden": false
    },
    "papermill": {
     "duration": 0.056795,
     "end_time": "2022-06-15T00:48:58.592815",
     "exception": false,
     "start_time": "2022-06-15T00:48:58.536020",
     "status": "completed"
    },
    "pycharm": {
     "name": "#%%\n"
    },
    "tags": []
   },
   "outputs": [
    {
     "data": {
      "text/html": [
       "<div>\n",
       "<style scoped>\n",
       "    .dataframe tbody tr th:only-of-type {\n",
       "        vertical-align: middle;\n",
       "    }\n",
       "\n",
       "    .dataframe tbody tr th {\n",
       "        vertical-align: top;\n",
       "    }\n",
       "\n",
       "    .dataframe thead th {\n",
       "        text-align: right;\n",
       "    }\n",
       "</style>\n",
       "<table border=\"1\" class=\"dataframe\">\n",
       "  <thead>\n",
       "    <tr style=\"text-align: right;\">\n",
       "      <th></th>\n",
       "      <th>release_year</th>\n",
       "      <th>runtime</th>\n",
       "      <th>seasons</th>\n",
       "      <th>imdb_score</th>\n",
       "      <th>imdb_votes</th>\n",
       "      <th>tmdb_popularity</th>\n",
       "      <th>tmdb_score</th>\n",
       "    </tr>\n",
       "  </thead>\n",
       "  <tbody>\n",
       "    <tr>\n",
       "      <th>count</th>\n",
       "      <td>5806.000000</td>\n",
       "      <td>5806.000000</td>\n",
       "      <td>2047.000000</td>\n",
       "      <td>5283.000000</td>\n",
       "      <td>5.267000e+03</td>\n",
       "      <td>5712.000000</td>\n",
       "      <td>5488.000000</td>\n",
       "    </tr>\n",
       "    <tr>\n",
       "      <th>mean</th>\n",
       "      <td>2016.013434</td>\n",
       "      <td>77.643989</td>\n",
       "      <td>2.165608</td>\n",
       "      <td>6.533447</td>\n",
       "      <td>2.340719e+04</td>\n",
       "      <td>22.525660</td>\n",
       "      <td>6.818039</td>\n",
       "    </tr>\n",
       "    <tr>\n",
       "      <th>std</th>\n",
       "      <td>7.324883</td>\n",
       "      <td>39.474160</td>\n",
       "      <td>2.636207</td>\n",
       "      <td>1.160932</td>\n",
       "      <td>8.713432e+04</td>\n",
       "      <td>68.849177</td>\n",
       "      <td>1.171560</td>\n",
       "    </tr>\n",
       "    <tr>\n",
       "      <th>min</th>\n",
       "      <td>1945.000000</td>\n",
       "      <td>0.000000</td>\n",
       "      <td>1.000000</td>\n",
       "      <td>1.500000</td>\n",
       "      <td>5.000000e+00</td>\n",
       "      <td>0.009442</td>\n",
       "      <td>0.500000</td>\n",
       "    </tr>\n",
       "    <tr>\n",
       "      <th>25%</th>\n",
       "      <td>2015.000000</td>\n",
       "      <td>44.000000</td>\n",
       "      <td>1.000000</td>\n",
       "      <td>5.800000</td>\n",
       "      <td>5.210000e+02</td>\n",
       "      <td>3.155250</td>\n",
       "      <td>6.100000</td>\n",
       "    </tr>\n",
       "    <tr>\n",
       "      <th>50%</th>\n",
       "      <td>2018.000000</td>\n",
       "      <td>84.000000</td>\n",
       "      <td>1.000000</td>\n",
       "      <td>6.600000</td>\n",
       "      <td>2.279000e+03</td>\n",
       "      <td>7.478000</td>\n",
       "      <td>6.900000</td>\n",
       "    </tr>\n",
       "    <tr>\n",
       "      <th>75%</th>\n",
       "      <td>2020.000000</td>\n",
       "      <td>105.000000</td>\n",
       "      <td>2.000000</td>\n",
       "      <td>7.400000</td>\n",
       "      <td>1.014400e+04</td>\n",
       "      <td>17.775750</td>\n",
       "      <td>7.500000</td>\n",
       "    </tr>\n",
       "    <tr>\n",
       "      <th>max</th>\n",
       "      <td>2022.000000</td>\n",
       "      <td>251.000000</td>\n",
       "      <td>42.000000</td>\n",
       "      <td>9.600000</td>\n",
       "      <td>2.268288e+06</td>\n",
       "      <td>1823.374000</td>\n",
       "      <td>10.000000</td>\n",
       "    </tr>\n",
       "  </tbody>\n",
       "</table>\n",
       "</div>"
      ],
      "text/plain": [
       "       release_year      runtime      seasons   imdb_score    imdb_votes  \\\n",
       "count   5806.000000  5806.000000  2047.000000  5283.000000  5.267000e+03   \n",
       "mean    2016.013434    77.643989     2.165608     6.533447  2.340719e+04   \n",
       "std        7.324883    39.474160     2.636207     1.160932  8.713432e+04   \n",
       "min     1945.000000     0.000000     1.000000     1.500000  5.000000e+00   \n",
       "25%     2015.000000    44.000000     1.000000     5.800000  5.210000e+02   \n",
       "50%     2018.000000    84.000000     1.000000     6.600000  2.279000e+03   \n",
       "75%     2020.000000   105.000000     2.000000     7.400000  1.014400e+04   \n",
       "max     2022.000000   251.000000    42.000000     9.600000  2.268288e+06   \n",
       "\n",
       "       tmdb_popularity   tmdb_score  \n",
       "count      5712.000000  5488.000000  \n",
       "mean         22.525660     6.818039  \n",
       "std          68.849177     1.171560  \n",
       "min           0.009442     0.500000  \n",
       "25%           3.155250     6.100000  \n",
       "50%           7.478000     6.900000  \n",
       "75%          17.775750     7.500000  \n",
       "max        1823.374000    10.000000  "
      ]
     },
     "execution_count": 2,
     "metadata": {},
     "output_type": "execute_result"
    }
   ],
   "source": [
    "df.describe()"
   ]
  },
  {
   "cell_type": "markdown",
   "id": "1ff75536",
   "metadata": {
    "papermill": {
     "duration": 0.006388,
     "end_time": "2022-06-15T00:48:58.605914",
     "exception": false,
     "start_time": "2022-06-15T00:48:58.599526",
     "status": "completed"
    },
    "pycharm": {
     "name": "#%% md\n"
    },
    "tags": []
   },
   "source": [
    "## Getting a feel\n",
    "Let's make some basic plots to get a feel for our data."
   ]
  },
  {
   "cell_type": "code",
   "execution_count": 3,
   "id": "a124c128",
   "metadata": {
    "collapsed": false,
    "execution": {
     "iopub.execute_input": "2022-06-15T00:48:58.621312Z",
     "iopub.status.busy": "2022-06-15T00:48:58.620891Z",
     "iopub.status.idle": "2022-06-15T00:48:58.823219Z",
     "shell.execute_reply": "2022-06-15T00:48:58.822314Z"
    },
    "jupyter": {
     "outputs_hidden": false
    },
    "papermill": {
     "duration": 0.212606,
     "end_time": "2022-06-15T00:48:58.825527",
     "exception": false,
     "start_time": "2022-06-15T00:48:58.612921",
     "status": "completed"
    },
    "pycharm": {
     "name": "#%%\n"
    },
    "tags": []
   },
   "outputs": [
    {
     "data": {
      "image/png": "[encoded data removed]",
      "text/plain": [
       "<Figure size 432x288 with 1 Axes>"
      ]
     },
     "metadata": {
      "needs_background": "light"
     },
     "output_type": "display_data"
    }
   ],
   "source": [
    "sns.countplot(data=df, x='type')\n",
    "plt.show()"
   ]
  },
  {
   "cell_type": "markdown",
   "id": "5da18cfa",
   "metadata": {
    "papermill": {
     "duration": 0.006586,
     "end_time": "2022-06-15T00:48:58.838942",
     "exception": false,
     "start_time": "2022-06-15T00:48:58.832356",
     "status": "completed"
    },
    "pycharm": {
     "name": "#%% md\n"
    },
    "tags": []
   },
   "source": [
    "We're dealing mostly with movies in our dataset."
   ]
  },
  {
   "cell_type": "code",
   "execution_count": 4,
   "id": "46201ca6",
   "metadata": {
    "collapsed": false,
    "execution": {
     "iopub.execute_input": "2022-06-15T00:48:58.854177Z",
     "iopub.status.busy": "2022-06-15T00:48:58.853336Z",
     "iopub.status.idle": "2022-06-15T00:48:58.861900Z",
     "shell.execute_reply": "2022-06-15T00:48:58.860928Z"
    },
    "jupyter": {
     "outputs_hidden": false
    },
    "papermill": {
     "duration": 0.018346,
     "end_time": "2022-06-15T00:48:58.863913",
     "exception": false,
     "start_time": "2022-06-15T00:48:58.845567",
     "status": "completed"
    },
    "pycharm": {
     "name": "#%%\n"
    },
    "tags": []
   },
   "outputs": [
    {
     "data": {
      "text/plain": [
       "2019    848\n",
       "2020    805\n",
       "2018    774\n",
       "2021    758\n",
       "2017    580\n",
       "       ... \n",
       "1974      1\n",
       "1959      1\n",
       "1962      1\n",
       "1978      1\n",
       "1945      1\n",
       "Name: release_year, Length: 67, dtype: int64"
      ]
     },
     "execution_count": 4,
     "metadata": {},
     "output_type": "execute_result"
    }
   ],
   "source": [
    "df['release_year'].value_counts()"
   ]
  },
  {
   "cell_type": "code",
   "execution_count": 5,
   "id": "184d6450",
   "metadata": {
    "collapsed": false,
    "execution": {
     "iopub.execute_input": "2022-06-15T00:48:58.879973Z",
     "iopub.status.busy": "2022-06-15T00:48:58.879151Z",
     "iopub.status.idle": "2022-06-15T00:48:59.087886Z",
     "shell.execute_reply": "2022-06-15T00:48:59.086345Z"
    },
    "jupyter": {
     "outputs_hidden": false
    },
    "papermill": {
     "duration": 0.219823,
     "end_time": "2022-06-15T00:48:59.090731",
     "exception": false,
     "start_time": "2022-06-15T00:48:58.870908",
     "status": "completed"
    },
    "pycharm": {
     "name": "#%%\n"
    },
    "tags": []
   },
   "outputs": [
    {
     "data": {
      "image/png": "[encoded data removed]",
      "text/plain": [
       "<Figure size 432x288 with 1 Axes>"
      ]
     },
     "metadata": {
      "needs_background": "light"
     },
     "output_type": "display_data"
    }
   ],
   "source": [
    "release_year_counts = df['release_year'].value_counts()\n",
    "sns.lineplot(data=release_year_counts)\n",
    "plt.xlabel('Year')\n",
    "plt.ylabel('Count')\n",
    "plt.show()"
   ]
  },
  {
   "cell_type": "markdown",
   "id": "c10c11ed",
   "metadata": {
    "papermill": {
     "duration": 0.006858,
     "end_time": "2022-06-15T00:48:59.105491",
     "exception": false,
     "start_time": "2022-06-15T00:48:59.098633",
     "status": "completed"
    },
    "pycharm": {
     "name": "#%% md\n"
    },
    "tags": []
   },
   "source": [
    "Our dataset seems to mainly contain TV shows and movies from more recent years.\n",
    "## Analysis\n",
    "An interesting thing to find out would be which genres tend to be the highest rated."
   ]
  },
  {
   "cell_type": "code",
   "execution_count": 6,
   "id": "ed2f423f",
   "metadata": {
    "collapsed": false,
    "execution": {
     "iopub.execute_input": "2022-06-15T00:48:59.121641Z",
     "iopub.status.busy": "2022-06-15T00:48:59.121182Z",
     "iopub.status.idle": "2022-06-15T00:48:59.132339Z",
     "shell.execute_reply": "2022-06-15T00:48:59.131356Z"
    },
    "jupyter": {
     "outputs_hidden": false
    },
    "papermill": {
     "duration": 0.021981,
     "end_time": "2022-06-15T00:48:59.134650",
     "exception": false,
     "start_time": "2022-06-15T00:48:59.112669",
     "status": "completed"
    },
    "pycharm": {
     "name": "#%%\n"
    },
    "tags": []
   },
   "outputs": [
    {
     "data": {
      "text/plain": [
       "['comedy']                                            510\n",
       "['drama']                                             350\n",
       "['documentation']                                     320\n",
       "['comedy', 'drama']                                   141\n",
       "['drama', 'comedy']                                   128\n",
       "                                                     ... \n",
       "['drama', 'family', 'comedy', 'music']                  1\n",
       "['drama', 'thriller', 'western']                        1\n",
       "['comedy', 'thriller', 'drama', 'action', 'crime']      1\n",
       "['romance', 'drama', 'history', 'european']             1\n",
       "['family', 'comedy', 'animation']                       1\n",
       "Name: genres, Length: 1626, dtype: int64"
      ]
     },
     "execution_count": 6,
     "metadata": {},
     "output_type": "execute_result"
    }
   ],
   "source": [
    "df['genres'].value_counts()"
   ]
  },
  {
   "cell_type": "markdown",
   "id": "dce774a6",
   "metadata": {
    "papermill": {
     "duration": 0.006883,
     "end_time": "2022-06-15T00:48:59.148920",
     "exception": false,
     "start_time": "2022-06-15T00:48:59.142037",
     "status": "completed"
    },
    "pycharm": {
     "name": "#%% md\n"
    },
    "tags": []
   },
   "source": [
    "It seems our dataset mostly contains movies or TV shows that are comedies, dramas, or documentations, so let's see how those compare in IMDB ratings."
   ]
  },
  {
   "cell_type": "code",
   "execution_count": 7,
   "id": "6e50679f",
   "metadata": {
    "collapsed": false,
    "execution": {
     "iopub.execute_input": "2022-06-15T00:48:59.165444Z",
     "iopub.status.busy": "2022-06-15T00:48:59.164443Z",
     "iopub.status.idle": "2022-06-15T00:48:59.346187Z",
     "shell.execute_reply": "2022-06-15T00:48:59.345520Z"
    },
    "jupyter": {
     "outputs_hidden": false
    },
    "papermill": {
     "duration": 0.192163,
     "end_time": "2022-06-15T00:48:59.348229",
     "exception": false,
     "start_time": "2022-06-15T00:48:59.156066",
     "status": "completed"
    },
    "pycharm": {
     "name": "#%%\n"
    },
    "tags": []
   },
   "outputs": [
    {
     "data": {
      "image/png": "[encoded data removed]",
      "text/plain": [
       "<Figure size 432x288 with 1 Axes>"
      ]
     },
     "metadata": {
      "needs_background": "light"
     },
     "output_type": "display_data"
    }
   ],
   "source": [
    "comedy = df[df['genres'] == \"['comedy']\"]\n",
    "drama = df[df['genres'] == \"['drama']\"]\n",
    "documentation = df[df['genres'] == \"['documentation']\"]\n",
    "mean_values = [comedy['imdb_score'].mean(), drama['imdb_score'].mean(), documentation['imdb_score'].mean()]\n",
    "genres = [0, 1, 2]\n",
    "imdb_scores_plot: Axes = sns.barplot(x=genres, y=mean_values)\n",
    "imdb_scores_plot.set_xlabel('Genres')\n",
    "imdb_scores_plot.set_xticklabels(['Comedy', 'Drama', 'Documentation'])\n",
    "imdb_scores_plot.set_ylabel('Average IMDB Score')\n",
    "plt.show()"
   ]
  },
  {
   "cell_type": "markdown",
   "id": "feed6d04",
   "metadata": {
    "papermill": {
     "duration": 0.007278,
     "end_time": "2022-06-15T00:48:59.362908",
     "exception": false,
     "start_time": "2022-06-15T00:48:59.355630",
     "status": "completed"
    },
    "pycharm": {
     "name": "#%% md\n"
    },
    "tags": []
   },
   "source": [
    "Of these three genres, it's clear that documentation is the highest rated on average, but since our dataset has less documentations than the other two genres, it's not exactly a fair comparison."
   ]
  },
  {
   "cell_type": "code",
   "execution_count": 8,
   "id": "455ac7c2",
   "metadata": {
    "collapsed": false,
    "execution": {
     "iopub.execute_input": "2022-06-15T00:48:59.380452Z",
     "iopub.status.busy": "2022-06-15T00:48:59.379719Z",
     "iopub.status.idle": "2022-06-15T00:48:59.392997Z",
     "shell.execute_reply": "2022-06-15T00:48:59.391569Z"
    },
    "jupyter": {
     "outputs_hidden": false
    },
    "papermill": {
     "duration": 0.025351,
     "end_time": "2022-06-15T00:48:59.395908",
     "exception": false,
     "start_time": "2022-06-15T00:48:59.370557",
     "status": "completed"
    },
    "pycharm": {
     "name": "#%%\n"
    },
    "tags": []
   },
   "outputs": [
    {
     "name": "stdout",
     "output_type": "stream",
     "text": [
      "(438, 15)\n",
      "(273, 15)\n",
      "(249, 15)\n"
     ]
    }
   ],
   "source": [
    "# removing rows which have an empty imdb score\n",
    "comedy = comedy.dropna(axis=0, subset=['imdb_score'])\n",
    "drama = drama.dropna(axis=0, subset=['imdb_score'])\n",
    "documentation = documentation.dropna(axis=0, subset=['imdb_score'])\n",
    "print(comedy.shape)\n",
    "print(drama.shape)\n",
    "print(documentation.shape)"
   ]
  },
  {
   "cell_type": "markdown",
   "id": "1a3ad0c1",
   "metadata": {
    "papermill": {
     "duration": 0.007476,
     "end_time": "2022-06-15T00:48:59.411401",
     "exception": false,
     "start_time": "2022-06-15T00:48:59.403925",
     "status": "completed"
    },
    "pycharm": {
     "name": "#%% md\n"
    },
    "tags": []
   },
   "source": [
    "After removing all the rows which have no IMDB score, we'll pick the one that has the least number of rows and use that number for our random sample size."
   ]
  },
  {
   "cell_type": "code",
   "execution_count": 9,
   "id": "18082d9c",
   "metadata": {
    "collapsed": false,
    "execution": {
     "iopub.execute_input": "2022-06-15T00:48:59.428939Z",
     "iopub.status.busy": "2022-06-15T00:48:59.428176Z",
     "iopub.status.idle": "2022-06-15T00:48:59.437392Z",
     "shell.execute_reply": "2022-06-15T00:48:59.436692Z"
    },
    "jupyter": {
     "outputs_hidden": false
    },
    "papermill": {
     "duration": 0.020418,
     "end_time": "2022-06-15T00:48:59.439495",
     "exception": false,
     "start_time": "2022-06-15T00:48:59.419077",
     "status": "completed"
    },
    "pycharm": {
     "name": "#%%\n"
    },
    "tags": []
   },
   "outputs": [],
   "source": [
    "# picking 249 points randomly\n",
    "random_comedy = comedy.sample(n=249, random_state=42)\n",
    "random_drama = drama.sample(n=249, random_state=42)\n",
    "random_documentation = documentation.sample(n=249, random_state=42)"
   ]
  },
  {
   "cell_type": "markdown",
   "id": "ed59eef7",
   "metadata": {
    "papermill": {
     "duration": 0.007291,
     "end_time": "2022-06-15T00:48:59.454186",
     "exception": false,
     "start_time": "2022-06-15T00:48:59.446895",
     "status": "completed"
    },
    "pycharm": {
     "name": "#%% md\n"
    },
    "tags": []
   },
   "source": [
    "After picking 249 observations from each of the 3 genres, let's run the plot again."
   ]
  },
  {
   "cell_type": "code",
   "execution_count": 10,
   "id": "3ece8d12",
   "metadata": {
    "collapsed": false,
    "execution": {
     "iopub.execute_input": "2022-06-15T00:48:59.471220Z",
     "iopub.status.busy": "2022-06-15T00:48:59.470520Z",
     "iopub.status.idle": "2022-06-15T00:48:59.652932Z",
     "shell.execute_reply": "2022-06-15T00:48:59.652233Z"
    },
    "jupyter": {
     "outputs_hidden": false
    },
    "papermill": {
     "duration": 0.193468,
     "end_time": "2022-06-15T00:48:59.654920",
     "exception": false,
     "start_time": "2022-06-15T00:48:59.461452",
     "status": "completed"
    },
    "pycharm": {
     "name": "#%%\n"
    },
    "tags": []
   },
   "outputs": [
    {
     "data": {
      "image/png": "[encoded data removed]",
      "text/plain": [
       "<Figure size 432x288 with 1 Axes>"
      ]
     },
     "metadata": {
      "needs_background": "light"
     },
     "output_type": "display_data"
    }
   ],
   "source": [
    "mean_values = [random_comedy['imdb_score'].mean(), random_drama['imdb_score'].mean(), random_documentation['imdb_score'].mean()]\n",
    "random_imdb_score_plot: Axes = sns.barplot(x=genres, y=mean_values)\n",
    "random_imdb_score_plot.set_xlabel('Genres')\n",
    "random_imdb_score_plot.set_xticklabels(['Comedy', 'Drama', 'Documentation'])\n",
    "random_imdb_score_plot.set_ylabel('Average IMDB Score')\n",
    "random_imdb_score_plot.set_title('Average IMDB Score by Genre')\n",
    "plt.show()"
   ]
  },
  {
   "cell_type": "markdown",
   "id": "5f2bdb5c",
   "metadata": {
    "papermill": {
     "duration": 0.007811,
     "end_time": "2022-06-15T00:48:59.671124",
     "exception": false,
     "start_time": "2022-06-15T00:48:59.663313",
     "status": "completed"
    },
    "pycharm": {
     "name": "#%% md\n"
    },
    "tags": []
   },
   "source": [
    "Even when we have the same number of observations chosen randomly, the plot still looks the same."
   ]
  }
 ],
 "metadata": {
  "kernelspec": {
   "display_name": "Python 3",
   "language": "python",
   "name": "python3"
  },
  "language_info": {
   "codemirror_mode": {
    "name": "ipython",
    "version": 3
   },
   "file_extension": ".py",
   "mimetype": "text/x-python",
   "name": "python",
   "nbconvert_exporter": "python",
   "pygments_lexer": "ipython3",
   "version": "3.7.12"
  },
  "papermill": {
   "default_parameters": {},
   "duration": 13.415175,
   "end_time": "2022-06-15T00:49:00.401114",
   "environment_variables": {},
   "exception": null,
   "input_path": "__notebook__.ipynb",
   "output_path": "__notebook__.ipynb",
   "parameters": {},
   "start_time": "2022-06-15T00:48:46.985939",
   "version": "2.3.4"
  }
 },
 "nbformat": 4,
 "nbformat_minor": 5
}
